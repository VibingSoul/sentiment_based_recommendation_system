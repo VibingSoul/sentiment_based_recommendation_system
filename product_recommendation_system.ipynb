{
  "cells": [
    {
      "cell_type": "code",
      "execution_count": null,
      "metadata": {
        "id": "raiQMM89_7no"
      },
      "outputs": [],
      "source": [
        "# pip freeze > requirement.txt"
      ]
    },
    {
      "cell_type": "code",
      "execution_count": 3,
      "metadata": {
        "id": "Nmz7esHJGbRg"
      },
      "outputs": [],
      "source": [
        "#importing libraries \n",
        "import numpy as np\n",
        "import pandas as pd\n",
        "import re, nltk, spacy, string\n",
        "import en_core_web_sm\n",
        "nlp = en_core_web_sm.load()\n",
        "import seaborn as sns\n",
        "import matplotlib.pyplot as plt\n",
        "from nltk.corpus import stopwords \n",
        "%matplotlib inline\n",
        "\n",
        "\n",
        "\n",
        "from plotly.offline import plot\n",
        "import plotly.graph_objects as go\n",
        "import plotly.express as px\n",
        "\n",
        "from sklearn.feature_extraction.text import CountVectorizer, TfidfVectorizer\n",
        "from sklearn.metrics import classification_report,roc_auc_score,confusion_matrix,f1_score,precision_score,accuracy_score\n",
        "from sklearn.metrics import pairwise_distances\n",
        "from sklearn.linear_model import LogisticRegression\n",
        "from sklearn.ensemble import RandomForestClassifier,GradientBoostingClassifier \n",
        "from sklearn.model_selection import train_test_split,GridSearchCV,RandomizedSearchCV\n",
        "from sklearn.preprocessing import MinMaxScaler\n",
        "import xgboost as xgb"
      ]
    },
    {
      "cell_type": "code",
      "execution_count": 4,
      "metadata": {
        "id": "_3GfFoZvKoWp"
      },
      "outputs": [],
      "source": [
        "pd.set_option('max_colwidth', 500)"
      ]
    },
    {
      "cell_type": "markdown",
      "metadata": {
        "id": "tHHuqvU_cDpM"
      },
      "source": [
        "# 1. Exploratory Analysis"
      ]
    },
    {
      "cell_type": "code",
      "execution_count": 5,
      "metadata": {
        "colab": {
          "base_uri": "https://localhost:8080/",
          "height": 1000
        },
        "id": "XqYtJa4oJgVg",
        "outputId": "0eb857ed-b740-4566-98b4-b12686ec3e73"
      },
      "outputs": [],
      "source": [
        "# Reading the input from folder \n",
        "master_df = pd.read_csv('sample30.csv')\n",
        "\n",
        "df=master_df.copy()\n",
        "df.sample(5)"
      ]
    },
    {
      "cell_type": "code",
      "execution_count": 6,
      "metadata": {
        "colab": {
          "base_uri": "https://localhost:8080/"
        },
        "id": "E3Jnt-rLN10q",
        "outputId": "eedf52a8-fcb2-4312-e11d-827cdffe4648"
      },
      "outputs": [],
      "source": [
        "### Total reviews\n",
        "total = len(df['reviews_text'])\n",
        "print (\"Number of reviews: \",total)\n",
        "\n",
        "### How many unique reviewers?\n",
        "print (\"Number of unique reviewers: \",len(df['reviews_username'].unique()))\n",
        "reviewer_prop = float(len(df['reviews_username'].unique())/total)\n",
        "print (\"Prop of unique reviewers: \",round(reviewer_prop,3))\n",
        "\n",
        "### Average star score\n",
        "print (\"Average rating score: \",round(df['reviews_rating'].mean(),3))"
      ]
    },
    {
      "cell_type": "code",
      "execution_count": 7,
      "metadata": {
        "colab": {
          "base_uri": "https://localhost:8080/"
        },
        "id": "pPx8x-EVN59I",
        "outputId": "1c38c7a8-2c99-4255-a31e-93f4a32a6630"
      },
      "outputs": [],
      "source": [
        "#data overivew\n",
        "print('rows: ', df.shape[0])\n",
        "print('columns: ', df.shape[1])\n",
        "print('\\nfeatures: ', df.columns.to_list())\n",
        "print('\\nmissing vlues: ', df.isnull().values.sum())\n",
        "print('\\nUnique values: \\n', df.nunique())"
      ]
    },
    {
      "cell_type": "code",
      "execution_count": null,
      "metadata": {
        "colab": {
          "base_uri": "https://localhost:8080/"
        },
        "id": "dtHjTsybM4TX",
        "outputId": "9123365f-cc7d-4749-db39-cd2adf014462"
      },
      "outputs": [],
      "source": [
        "# Info of the dataframe \n",
        "df.info()"
      ]
    },
    {
      "cell_type": "code",
      "execution_count": null,
      "metadata": {
        "colab": {
          "base_uri": "https://localhost:8080/",
          "height": 376
        },
        "id": "-A0gjIM5TOPO",
        "outputId": "c5901aa3-6c46-4c55-e166-2cd4e94d4823"
      },
      "outputs": [],
      "source": [
        "# Number of occurences for each rating \n",
        "#plot ratings frequency\n",
        "plt.figure(figsize=[10,5]) #[width, height]\n",
        "x = list(df['reviews_rating'].value_counts().index)\n",
        "y = list(df['reviews_rating'].value_counts())\n",
        "plt.barh(x, y)\n",
        "ticks_x = np.linspace(0, 50000, 6) # (start, end, no of ticks)\n",
        "plt.xticks(ticks_x, fontsize=10, family='fantasy', color='black')\n",
        "plt.yticks(size=15)\n",
        "\n",
        "plt.title('Distribution of ratings', fontsize=20, weight='bold', color='navy', loc='center')\n",
        "plt.xlabel('Count', fontsize=15, weight='bold', color='navy')\n",
        "plt.ylabel('Ratings', fontsize=15, weight='bold', color='navy')\n",
        "plt.legend(['reviews Rating'], shadow=True, loc=4)"
      ]
    },
    {
      "cell_type": "code",
      "execution_count": null,
      "metadata": {
        "colab": {
          "base_uri": "https://localhost:8080/",
          "height": 621
        },
        "id": "ws3BWlljULHd",
        "outputId": "54fb17e3-b51f-4b31-d61e-675fadd1478d"
      },
      "outputs": [],
      "source": [
        "# Number of Postive and Negatives in the data frame showing the class imbalance\n",
        "#Replace the Nan values to No Data for reviewers did purchase or not\n",
        "df['reviews_didPurchase'].fillna('No Data', inplace=True)\n",
        "#Distribution of reviews for actual purchasing customers\n",
        "plt.figure(figsize=(10,8))\n",
        "ax = sns.countplot(df['reviews_didPurchase'])\n",
        "ax.set_xlabel(xlabel=\"Shoppers did purchase the product\", fontsize=17)\n",
        "ax.set_ylabel(ylabel='Count of Reviews', fontsize=17)\n",
        "ax.axes.set_title('Number of Genuine Reviews', fontsize=17)\n",
        "ax.tick_params(labelsize=13)"
      ]
    },
    {
      "cell_type": "code",
      "execution_count": null,
      "metadata": {
        "colab": {
          "base_uri": "https://localhost:8080/",
          "height": 528
        },
        "id": "6CoaF2s8VEUB",
        "outputId": "788b13c4-bee8-4c8f-993a-933d5762f9d4"
      },
      "outputs": [],
      "source": [
        "plt.figure(figsize=(10,8))\n",
        "ax = sns.histplot(hue=df['reviews_rating'],x=df['user_sentiment'])\n",
        "ax.set_xlabel(xlabel=\"Shopper Sentiment\", fontsize=17)\n",
        "ax.set_ylabel(ylabel='Count of Reviews', fontsize=17)\n",
        "ax.axes.set_title('Review Segregation', fontsize=17)\n",
        "ax.tick_params(labelsize=13)"
      ]
    },
    {
      "cell_type": "code",
      "execution_count": null,
      "metadata": {
        "colab": {
          "base_uri": "https://localhost:8080/"
        },
        "id": "xffRK_qYezp9",
        "outputId": "e8062a7a-8a09-42c0-b209-650b2afbe7f6"
      },
      "outputs": [],
      "source": [
        "df['user_sentiment'].value_counts()"
      ]
    },
    {
      "cell_type": "markdown",
      "metadata": {
        "id": "l8uMn5gZYHHD"
      },
      "source": [
        "* We need to correct the data available in the sentiments considering the rating of users"
      ]
    },
    {
      "cell_type": "code",
      "execution_count": null,
      "metadata": {
        "colab": {
          "base_uri": "https://localhost:8080/"
        },
        "id": "5Dh7fOJZaiwh",
        "outputId": "c9cc6a24-bb7a-49ce-d106-8cf814049d16"
      },
      "outputs": [],
      "source": [
        "# To download the stopwords from NLTK library\n",
        "import nltk\n",
        "nltk.download('stopwords')"
      ]
    },
    {
      "cell_type": "code",
      "execution_count": null,
      "metadata": {
        "colab": {
          "base_uri": "https://localhost:8080/",
          "height": 449
        },
        "id": "nkY4Q9KjZMjC",
        "outputId": "4980fbab-1298-4e93-cf35-a73b85b1e339"
      },
      "outputs": [],
      "source": [
        "# To Check the most word occurence using word cloud\n",
        "from wordcloud import WordCloud ,STOPWORDS\n",
        "stopwords = set(STOPWORDS)\n",
        "wordcloud = WordCloud(background_color='white', stopwords=stopwords, max_words=300, max_font_size=40,\n",
        "                     scale=3, random_state=1).generate(str(df['reviews_text'].value_counts()))\n",
        "plt.figure(figsize=(15,15))\n",
        "plt.imshow(wordcloud, interpolation='bilinear')\n",
        "plt.axis('off')\n",
        "plt.show()"
      ]
    },
    {
      "cell_type": "markdown",
      "metadata": {
        "id": "VxHECxL9cMfO"
      },
      "source": [
        "#  2. Data Cleaning"
      ]
    },
    {
      "cell_type": "code",
      "execution_count": null,
      "metadata": {
        "colab": {
          "base_uri": "https://localhost:8080/"
        },
        "id": "mAg2xsI1KJtq",
        "outputId": "8f9bd326-63bc-4cee-bdb7-2c7e0aff2872"
      },
      "outputs": [],
      "source": [
        "# Finding the number of rows with Null values\n",
        "df.isnull().sum()"
      ]
    },
    {
      "cell_type": "code",
      "execution_count": null,
      "metadata": {
        "colab": {
          "base_uri": "https://localhost:8080/"
        },
        "id": "cFA0xWv8K9tf",
        "outputId": "6488efc2-6f1a-40c2-8bb5-f5e346e2fb2e"
      },
      "outputs": [],
      "source": [
        "#shape of the dataframe\n",
        "df.shape"
      ]
    },
    {
      "cell_type": "code",
      "execution_count": null,
      "metadata": {
        "colab": {
          "base_uri": "https://localhost:8080/",
          "height": 1000
        },
        "id": "6_o-Jmm_LMSw",
        "outputId": "260e018b-9293-4bea-c783-d5b9a1801aa9"
      },
      "outputs": [],
      "source": [
        "#From the null values percentages, columns reviews_userCity and reviews_userProvince can be dropped \n",
        "df = df.drop(columns=['reviews_userCity','reviews_userProvince'],axis=1)\n",
        "df.head()"
      ]
    },
    {
      "cell_type": "code",
      "execution_count": null,
      "metadata": {
        "colab": {
          "base_uri": "https://localhost:8080/"
        },
        "id": "uVD1KQJqMTma",
        "outputId": "1159db7f-1002-4a41-978c-df8e79663130"
      },
      "outputs": [],
      "source": [
        "# Finding the number of rows with Null values\n",
        "print(\"shape of the dataframe =\",df.shape)\n",
        "df.isnull().sum()/len(df)"
      ]
    },
    {
      "cell_type": "code",
      "execution_count": null,
      "metadata": {
        "colab": {
          "base_uri": "https://localhost:8080/"
        },
        "id": "QwDu_7ICfHgw",
        "outputId": "a5ba50f7-fef9-41a8-bbe8-25da3c7f8e20"
      },
      "outputs": [],
      "source": [
        "# Before Updating the user sentiment columns\n",
        "df['user_sentiment'].value_counts()"
      ]
    },
    {
      "cell_type": "code",
      "execution_count": null,
      "metadata": {
        "id": "dGb-dmFcboOz"
      },
      "outputs": [],
      "source": [
        "# for correcting the user sentiment according to rating \n",
        "def review_sentiment_clear(x):\n",
        "  if x >= 3 :\n",
        "    return 'Postive'\n",
        "  elif x > 0 and x < 3  :\n",
        "    return 'Negative' "
      ]
    },
    {
      "cell_type": "code",
      "execution_count": null,
      "metadata": {
        "colab": {
          "base_uri": "https://localhost:8080/",
          "height": 1000
        },
        "id": "eXlO2H45d2D0",
        "outputId": "7ddcf916-2d67-4fa9-9782-444d500282d4"
      },
      "outputs": [],
      "source": [
        "df['user_sentiment'] = df['reviews_rating'].apply(review_sentiment_clear)\n",
        "df.head()"
      ]
    },
    {
      "cell_type": "code",
      "execution_count": null,
      "metadata": {
        "colab": {
          "base_uri": "https://localhost:8080/"
        },
        "id": "OFhI8lAzeFdj",
        "outputId": "cf5e01d4-a096-4516-ef75-5f09d47170aa"
      },
      "outputs": [],
      "source": [
        "# After corrections for user sentiment \n",
        "df['user_sentiment'].value_counts()"
      ]
    },
    {
      "cell_type": "markdown",
      "metadata": {
        "id": "m-dBr2tQfg8i"
      },
      "source": [
        "# 3. Text Preprocessing "
      ]
    },
    {
      "cell_type": "markdown",
      "metadata": {
        "id": "q7Z_N2ZXfUFe"
      },
      "source": [
        "### Text lower cased , removed Special Charater and lemmatized"
      ]
    },
    {
      "cell_type": "code",
      "execution_count": null,
      "metadata": {
        "colab": {
          "base_uri": "https://localhost:8080/"
        },
        "id": "-Xj4sH0ZO8vB",
        "outputId": "bf9c4ee3-8b49-480a-90a3-b78cbe12d8b3"
      },
      "outputs": [],
      "source": [
        "#Common functions for cleaning the text data \n",
        "import nltk\n",
        "from nltk.stem import LancasterStemmer\n",
        "from nltk.stem import WordNetLemmatizer\n",
        "nltk.download('punkt')\n",
        "nltk.download('stopwords')\n",
        "nltk.download('wordnet')\n",
        "nltk.download('omw-1.4')\n",
        "from nltk.corpus import stopwords\n",
        "import unicodedata\n",
        "from nltk.stem import WordNetLemmatizer\n",
        "from nltk.tokenize import word_tokenize, sent_tokenize, regexp_tokenize \n",
        "from nltk.stem import PorterStemmer, WordNetLemmatizer\n",
        "import re\n",
        "import html\n",
        "\n",
        "# special_characters removal\n",
        "def remove_special_characters(text, remove_digits=True):\n",
        "    \"\"\"Remove the special Characters\"\"\"\n",
        "    pattern = r'[^a-zA-z0-9\\s]' if not remove_digits else r'[^a-zA-z\\s]'\n",
        "    text = re.sub(pattern, '', text)\n",
        "    return text\n",
        "\n",
        "def to_lowercase(words):\n",
        "    \"\"\"Convert all characters to lowercase from list of tokenized words\"\"\"\n",
        "    new_words = []\n",
        "    for word in words:\n",
        "        new_word = word.lower()\n",
        "        new_words.append(new_word)\n",
        "    return new_words\n",
        "\n",
        "def remove_punctuation_and_splchars(words):\n",
        "    \"\"\"Remove punctuation from list of tokenized words\"\"\"\n",
        "    new_words = []\n",
        "    for word in words:\n",
        "        new_word = re.sub(r'[^\\w\\s]', '', word)\n",
        "        if new_word != '':\n",
        "            new_word = remove_special_characters(new_word, True)\n",
        "            new_words.append(new_word)\n",
        "    return new_words\n",
        "\n",
        "stopword_list= stopwords.words('english')\n",
        "\n",
        "def remove_stopwords(words):\n",
        "    \"\"\"Remove stop words from list of tokenized words\"\"\"\n",
        "    new_words = []\n",
        "    for word in words:\n",
        "        if word not in stopword_list:\n",
        "            new_words.append(word)\n",
        "    return new_words\n",
        "\n",
        "def stem_words(words):\n",
        "    \"\"\"Stem words in list of tokenized words\"\"\"\n",
        "    stemmer = LancasterStemmer()\n",
        "    stems = []\n",
        "    for word in words:\n",
        "        stem = stemmer.stem(word)\n",
        "        stems.append(stem)\n",
        "    return stems\n",
        "\n",
        "def lemmatize_verbs(words):\n",
        "    \"\"\"Lemmatize verbs in list of tokenized words\"\"\"\n",
        "    lemmatizer = WordNetLemmatizer()\n",
        "    lemmas = []\n",
        "    for word in words:\n",
        "        lemma = lemmatizer.lemmatize(word, pos='v')\n",
        "        lemmas.append(lemma)\n",
        "    return lemmas\n",
        "\n",
        "def normalize(words):\n",
        "    words = to_lowercase(words)\n",
        "    words = remove_punctuation_and_splchars(words)\n",
        "    words = remove_stopwords(words)\n",
        "    return words\n",
        "\n",
        "def lemmatize(words):\n",
        "    lemmas = lemmatize_verbs(words)\n",
        "    return lemmas"
      ]
    },
    {
      "cell_type": "code",
      "execution_count": null,
      "metadata": {
        "id": "X1fErMUiPGeY"
      },
      "outputs": [],
      "source": [
        "def normalize_and_lemmaize(input_text):\n",
        "    input_text = remove_special_characters(input_text)\n",
        "    words = nltk.word_tokenize(input_text)\n",
        "    words = normalize(words)\n",
        "    lemmas = lemmatize(words)\n",
        "    return ' '.join(lemmas)"
      ]
    },
    {
      "cell_type": "code",
      "execution_count": null,
      "metadata": {
        "colab": {
          "base_uri": "https://localhost:8080/",
          "height": 285
        },
        "id": "c_LplmC0giPz",
        "outputId": "3ce2667f-9542-4ded-985d-c121df70f794"
      },
      "outputs": [],
      "source": [
        "# Take the Review comment and user sentiment as dataframe \n",
        "review_df = df[['reviews_text','user_sentiment']]\n",
        "review_df.head()"
      ]
    },
    {
      "cell_type": "code",
      "execution_count": null,
      "metadata": {
        "colab": {
          "base_uri": "https://localhost:8080/",
          "height": 501
        },
        "id": "z1UU5nbng9Od",
        "outputId": "205cfdbc-77e3-4684-aa2b-027c0ad43ad5"
      },
      "outputs": [],
      "source": [
        "# create a new column lemmatized_review using the emmatize_text function\n",
        "review_df['lemmatized_text'] = review_df['reviews_text'].map(lambda text: normalize_and_lemmaize(text))\n",
        "review_df.head()"
      ]
    },
    {
      "cell_type": "code",
      "execution_count": null,
      "metadata": {
        "colab": {
          "base_uri": "https://localhost:8080/",
          "height": 485
        },
        "id": "LC6WmjFAqlli",
        "outputId": "f5d44511-b905-45da-e273-7d538bf774c9"
      },
      "outputs": [],
      "source": [
        "# new dataframe with lemmatized text and user sentiment \n",
        "review_new_df = review_df[['lemmatized_text','user_sentiment']]\n",
        "review_new_df"
      ]
    },
    {
      "cell_type": "code",
      "execution_count": null,
      "metadata": {
        "colab": {
          "base_uri": "https://localhost:8080/",
          "height": 415
        },
        "id": "GDzbUu7eOztS",
        "outputId": "dc5f2a29-ae0c-43f0-950f-96e6cd1d6418"
      },
      "outputs": [],
      "source": [
        "#Encode the negative and postive to 0 and 1 respectively \n",
        "review_new_df['user_sentiment'] = review_new_df['user_sentiment'].map({'Negative':0,'Postive':1})\n",
        "review_new_df.head()"
      ]
    },
    {
      "cell_type": "markdown",
      "metadata": {
        "id": "4GUotHOkNx8b"
      },
      "source": [
        "### Dividing the dataset into train and test data and handle the class imbalance"
      ]
    },
    {
      "cell_type": "code",
      "execution_count": null,
      "metadata": {
        "id": "NiPFP6wNQNvW"
      },
      "outputs": [],
      "source": [
        "from collections import Counter\n",
        "from imblearn.over_sampling import SMOTE"
      ]
    },
    {
      "cell_type": "code",
      "execution_count": null,
      "metadata": {
        "colab": {
          "base_uri": "https://localhost:8080/"
        },
        "id": "oBUn9apwNvqy",
        "outputId": "906dc9a5-da1e-46d3-90be-e18af396715d"
      },
      "outputs": [],
      "source": [
        "# Train and Test Divide\n",
        "x_train,x_test,y_train,y_test = train_test_split(review_new_df['lemmatized_text'],review_new_df['user_sentiment'],train_size=0.75,random_state=45,stratify=review_new_df['user_sentiment'])\n",
        "y_train.value_counts()"
      ]
    },
    {
      "cell_type": "markdown",
      "metadata": {
        "id": "qV95Tts0ejDm"
      },
      "source": [
        "# 4. Feature Extraction using Count Vectorizer and TFIDF Transformer "
      ]
    },
    {
      "cell_type": "code",
      "execution_count": null,
      "metadata": {
        "colab": {
          "base_uri": "https://localhost:8080/"
        },
        "id": "8E-Yh3P5pAe8",
        "outputId": "bbb04e5c-d24f-4fbe-8db7-67231f03f45a"
      },
      "outputs": [],
      "source": [
        "from sklearn.feature_extraction.text import TfidfTransformer\n",
        "count_vect = CountVectorizer()\n",
        "x_count = count_vect.fit_transform(x_train)\n",
        "\n",
        "\n",
        "tfidf_transformer = TfidfTransformer()\n",
        "x_train_transformed = tfidf_transformer.fit_transform(x_count)\n",
        "x_train_transformed.shape"
      ]
    },
    {
      "cell_type": "code",
      "execution_count": null,
      "metadata": {
        "id": "u3cePPl0fe9B"
      },
      "outputs": [],
      "source": [
        "#creating the pickle for countvectorizer and TFIDF Transformer\n",
        "import pickle\n",
        "pickle.dump(count_vect,open('pickle_file/count_vector.pkl','wb'))\n",
        "pickle.dump(tfidf_transformer,open('pickle_file/tfidf_transformer.pkl','wb'))"
      ]
    },
    {
      "cell_type": "code",
      "execution_count": null,
      "metadata": {
        "colab": {
          "base_uri": "https://localhost:8080/"
        },
        "id": "ib78-v6CQjgb",
        "outputId": "235c05bc-bcbe-4e1c-b77a-5adf6e538435"
      },
      "outputs": [],
      "source": [
        "count = Counter(y_train)\n",
        "print('Before sampling :',count)\n",
        "\n",
        "sampler = SMOTE()\n",
        "\n",
        "x_train_sm,y_train_sm = sampler.fit_resample(x_train_transformed,y_train)\n",
        "\n",
        "count = Counter(y_train_sm)\n",
        "print('After sampling :',count)"
      ]
    },
    {
      "cell_type": "markdown",
      "metadata": {
        "id": "d5bkB9k8e0r-"
      },
      "source": [
        "# 5. Training text classification model\n",
        "- Logistic Regression\n",
        "- Random Forest Classifer\n",
        "- XGBoost\n",
        "#### Choose the best model with hyperparameter tuning "
      ]
    },
    {
      "cell_type": "code",
      "execution_count": null,
      "metadata": {
        "id": "KLJvUU_meZwT"
      },
      "outputs": [],
      "source": [
        "# Function for Metrics\n",
        "performance=[]\n",
        "\n",
        "def model_metrics(y,y_pred,model_name,metrics):\n",
        "  Accuracy = accuracy_score(y,y_pred)\n",
        "  roc = roc_auc_score(y,y_pred)\n",
        "  confusion = confusion_matrix(y,y_pred)\n",
        "  precision = precision_score(y,y_pred)\n",
        "  f1 = f1_score(y,y_pred)\n",
        "  TP = confusion[1,1]  # true positive\n",
        "  TN = confusion[0,0]  # true negatives\n",
        "  FP = confusion[0,1]  # false positives\n",
        "  FN = confusion[1,0]  # false negatives\n",
        "  sensitivity= TP / float(TP+FN)\n",
        "  specificity = TN / float(TN+FP)\n",
        "\n",
        "  print(\"*\"*50)\n",
        "  print('Confusion Matrix =')\n",
        "  print(confusion)\n",
        "  print(\"sensitivity of the %s = %f\" % (model_name,round(sensitivity,2)))\n",
        "  print(\"specificity of the %s = %f\" % (model_name,round(specificity,2)))\n",
        "  print(\"Accuracy Score of %s = %f\" % (model_name,Accuracy))\n",
        "  print('ROC AUC score of %s = %f' % (model_name,roc))\n",
        "  print(\"Report=\",)\n",
        "  print(classification_report(y,y_pred))\n",
        "  print(\"*\"*50)\n",
        "  metrics.append(dict({'Model_name':model_name,\n",
        "                       'Accuracy':Accuracy,\n",
        "                       'Roc_auc_score':roc,\n",
        "                       'Precision':precision,\n",
        "                       'F1_score':f1}))\n",
        "  return metrics\n",
        "\n"
      ]
    },
    {
      "cell_type": "markdown",
      "metadata": {
        "id": "Djg-6hZMbSFB"
      },
      "source": [
        "## Logistic Regression"
      ]
    },
    {
      "cell_type": "code",
      "execution_count": null,
      "metadata": {
        "colab": {
          "base_uri": "https://localhost:8080/"
        },
        "id": "b5Mc9oqkgEAm",
        "outputId": "c871a882-ad54-45ed-e325-5a9d6728b02c"
      },
      "outputs": [],
      "source": [
        "# 1. Logsitic Regression \n",
        "lr = LogisticRegression()\n",
        "lr.fit(x_train_sm,y_train_sm)"
      ]
    },
    {
      "cell_type": "code",
      "execution_count": null,
      "metadata": {
        "colab": {
          "base_uri": "https://localhost:8080/"
        },
        "id": "qVufPwb1gze3",
        "outputId": "f0cd4399-dfd0-4c1a-de98-815e82966700"
      },
      "outputs": [],
      "source": [
        "y_pred = lr.predict(x_train_sm)\n",
        "peformance = model_metrics(y_train_sm,y_pred,'Logistic Regression',performance)"
      ]
    },
    {
      "cell_type": "markdown",
      "metadata": {
        "id": "qLQ9l0BBbb9G"
      },
      "source": [
        "## RandomForest Classifier"
      ]
    },
    {
      "cell_type": "code",
      "execution_count": null,
      "metadata": {
        "colab": {
          "base_uri": "https://localhost:8080/"
        },
        "id": "Bavrjh6HhLVx",
        "outputId": "3cea9804-2e47-4559-e9c7-bb6f2b6ac1b7"
      },
      "outputs": [],
      "source": [
        "# 2. RandomForest Classifier\n",
        "rf = RandomForestClassifier()\n",
        "rf.fit(x_train_sm,y_train_sm)"
      ]
    },
    {
      "cell_type": "code",
      "execution_count": null,
      "metadata": {
        "colab": {
          "base_uri": "https://localhost:8080/"
        },
        "id": "lRI9K5edhj1g",
        "outputId": "71163b17-a2cc-4712-cd3a-6803228be773"
      },
      "outputs": [],
      "source": [
        "y_pred_rf = rf.predict(x_train_sm)\n",
        "performance = model_metrics(y_train_sm,y_pred_rf,'RandomForestClassifier',performance)"
      ]
    },
    {
      "cell_type": "markdown",
      "metadata": {
        "id": "yzBhfZP42OUY"
      },
      "source": [
        "## AdaBoost Classifier"
      ]
    },
    {
      "cell_type": "code",
      "execution_count": null,
      "metadata": {
        "colab": {
          "base_uri": "https://localhost:8080/"
        },
        "id": "pun537ts2NfC",
        "outputId": "b44dc09d-f2c9-4a35-98f0-48a8ede82278"
      },
      "outputs": [],
      "source": [
        "xgba = GradientBoostingClassifier()\n",
        "xgba.fit(x_train_sm,y_train_sm)\n",
        "y_pred_xgb = xgba.predict(x_train_sm)\n",
        "peformance = model_metrics(y_train_sm,y_pred_rf,'AdaBoostclassifier',peformance)\n",
        "\n"
      ]
    },
    {
      "cell_type": "markdown",
      "metadata": {
        "id": "PUzqxCRWbsY5"
      },
      "source": [
        "## XGBoost"
      ]
    },
    {
      "cell_type": "code",
      "execution_count": null,
      "metadata": {
        "id": "1pRa-lmCXw-8"
      },
      "outputs": [],
      "source": [
        "import xgboost as xgb"
      ]
    },
    {
      "cell_type": "code",
      "execution_count": null,
      "metadata": {
        "colab": {
          "base_uri": "https://localhost:8080/"
        },
        "id": "kEURisDoVXei",
        "outputId": "058c56b9-7fd2-429c-ce19-5b184d995323"
      },
      "outputs": [],
      "source": [
        "#4.XGBoostClassifier\n",
        "xgb_classifier = xgb.XGBClassifier()\n",
        "xgb_classifier.fit(x_train_sm,y_train_sm)\n",
        "y_pred_xgbc = xgb_classifier.predict(x_train_sm)\n",
        "peformance = model_metrics(y_train_sm,y_pred_xgbc,'XGBClassifier',peformance)\n"
      ]
    },
    {
      "cell_type": "code",
      "execution_count": null,
      "metadata": {
        "colab": {
          "base_uri": "https://localhost:8080/",
          "height": 143
        },
        "id": "44OYm5eFCTYB",
        "outputId": "83123939-0651-4573-e50c-7e420eb9155e"
      },
      "outputs": [],
      "source": [
        "metrics_df = pd.DataFrame(performance)\n",
        "metrics_df"
      ]
    },
    {
      "cell_type": "markdown",
      "metadata": {
        "id": "6oqn0baADlIG"
      },
      "source": [
        "## Hyperparameter Tuning of models "
      ]
    },
    {
      "cell_type": "code",
      "execution_count": null,
      "metadata": {
        "id": "4BWxBjm1kpeq"
      },
      "outputs": [],
      "source": [
        "n_estimators = [200,400,600]\n",
        "max_depth = [6,10,15]\n",
        "min_samples_leaf = [5,6,8]\n",
        "criterion  = ['gini','entropy']\n",
        "params = {'n_estimators':n_estimators,\n",
        "          'max_depth':max_depth,\n",
        "          'min_samples_leaf': min_samples_leaf,\n",
        "          'criterion':criterion}"
      ]
    },
    {
      "cell_type": "code",
      "execution_count": null,
      "metadata": {
        "id": "r90288UlnK-j"
      },
      "outputs": [],
      "source": [
        "grid_cv = GridSearchCV(estimator=rf,\n",
        "                       param_grid=params,\n",
        "                       n_jobs = -1,\n",
        "                       scoring = 'roc_auc',\n",
        "                       verbose = 1)"
      ]
    },
    {
      "cell_type": "code",
      "execution_count": null,
      "metadata": {
        "colab": {
          "base_uri": "https://localhost:8080/"
        },
        "id": "SJ5J6WczoGt9",
        "outputId": "be02e0e4-7359-4505-bcf0-1e888bf4dff7"
      },
      "outputs": [],
      "source": [
        "grid_cv.fit(x_train_sm,y_train_sm)"
      ]
    },
    {
      "cell_type": "code",
      "execution_count": null,
      "metadata": {
        "colab": {
          "base_uri": "https://localhost:8080/"
        },
        "id": "SmYsC2f7oZCU",
        "outputId": "8e435216-6e8c-4ed9-993a-96b6c04f32c9"
      },
      "outputs": [],
      "source": [
        "rf_final=grid_cv.best_estimator_\n",
        "rf_final"
      ]
    },
    {
      "cell_type": "code",
      "execution_count": null,
      "metadata": {
        "id": "qxfCPwwlyKOk"
      },
      "outputs": [],
      "source": [
        "pickle.dump(rf_final,open('pickle_file/RandomForest_classifier.pkl','wb'))"
      ]
    },
    {
      "cell_type": "code",
      "execution_count": null,
      "metadata": {
        "colab": {
          "base_uri": "https://localhost:8080/"
        },
        "id": "P09oebD1wppG",
        "outputId": "a22c2c5f-1557-4a4e-891b-f504fb96096a"
      },
      "outputs": [],
      "source": [
        "grid_cv.best_score_"
      ]
    },
    {
      "cell_type": "code",
      "execution_count": null,
      "metadata": {
        "colab": {
          "base_uri": "https://localhost:8080/"
        },
        "id": "FEPuyR0mwt0v",
        "outputId": "8e9edefb-1a2b-4d6f-da35-e1ee11ac54ec"
      },
      "outputs": [],
      "source": [
        "y_pred_rfgcv = rf_final.predict(x_train_sm)\n",
        "performance = model_metrics(y_train_sm,y_pred_rfgcv,'RandomForestClassifier with hyperparmater',performance)"
      ]
    },
    {
      "cell_type": "code",
      "execution_count": null,
      "metadata": {
        "id": "lsEmmtxhxo8i"
      },
      "outputs": [],
      "source": [
        "n_estimators = [200,400,600]\n",
        "params_1 = {'n_estimators':n_estimators}   "
      ]
    },
    {
      "cell_type": "code",
      "execution_count": null,
      "metadata": {
        "id": "GO8cGP0vyae6"
      },
      "outputs": [],
      "source": [
        "grid_cv_boost = GridSearchCV(estimator=xgba,\n",
        "                       param_grid=params_1,\n",
        "                       n_jobs = -1,\n",
        "                       scoring = 'roc_auc',\n",
        "                       verbose = 1)"
      ]
    },
    {
      "cell_type": "code",
      "execution_count": null,
      "metadata": {
        "colab": {
          "base_uri": "https://localhost:8080/"
        },
        "id": "W0DGyvQ9yf5c",
        "outputId": "1584e8c5-82df-4bac-b141-9df7d387f6ec"
      },
      "outputs": [],
      "source": [
        "grid_cv_boost.fit(x_train_sm,y_train_sm)\n",
        "print('Best score for GradientBoosting=',grid_cv_boost.best_score_)\n"
      ]
    },
    {
      "cell_type": "code",
      "execution_count": null,
      "metadata": {
        "colab": {
          "base_uri": "https://localhost:8080/"
        },
        "id": "pw5PrlxatMzu",
        "outputId": "4039a9be-2809-4240-c9e7-b52ef35c01cc"
      },
      "outputs": [],
      "source": [
        "xgb_final=grid_cv_boost.best_estimator_\n",
        "xgb_final"
      ]
    },
    {
      "cell_type": "code",
      "execution_count": null,
      "metadata": {
        "colab": {
          "base_uri": "https://localhost:8080/"
        },
        "id": "jGyjRSpxynGx",
        "outputId": "06899533-4ea9-4e01-83c9-4db5f21e8b54"
      },
      "outputs": [],
      "source": [
        "y_pred_xgbgcv = xgb_final.predict(x_train_sm)\n",
        "peformance = model_metrics(y_train_sm,y_pred_xgbgcv,'GradientBoostClassifier with n = 600',peformance)"
      ]
    },
    {
      "cell_type": "code",
      "execution_count": null,
      "metadata": {
        "id": "ulQQ8gqstk2r"
      },
      "outputs": [],
      "source": [
        "max_depth = [5,6,7,10]\n",
        "\n",
        "params_2 = {'max_depth':max_depth\n",
        "}\n",
        "grid_cv_boost2 = GridSearchCV(estimator=xgb_final,\n",
        "                       param_grid=params_2,\n",
        "                       n_jobs = -1,\n",
        "                       scoring = 'roc_auc',\n",
        "                       verbose = 1)"
      ]
    },
    {
      "cell_type": "code",
      "execution_count": null,
      "metadata": {
        "colab": {
          "base_uri": "https://localhost:8080/"
        },
        "id": "8tp7Z6RJugEX",
        "outputId": "808797b7-1eed-4ae6-ee40-6f11631dba31"
      },
      "outputs": [],
      "source": [
        "grid_cv_boost2.fit(x_train_sm,y_train_sm)\n",
        "print('Best score for GradientBoosting=',grid_cv_boost2.best_score_)\n",
        "grid_cv_boost2.best_estimator_"
      ]
    },
    {
      "cell_type": "code",
      "execution_count": null,
      "metadata": {
        "id": "Iwj4taptv6A_"
      },
      "outputs": [],
      "source": [
        "min_samples_split = [10,20,30]\n",
        "params_2 = {'min_samples_split': min_samples_split\n",
        "}\n",
        "grid_cv_boost3 = GridSearchCV(estimator=grid_cv_boost2.best_estimator_,\n",
        "                       param_grid=params_2,\n",
        "                       n_jobs = -1,\n",
        "                       scoring = 'roc_auc',\n",
        "                       verbose = 1)\n",
        "\n",
        "grid_cv_boost3.fit(x_train_sm,y_train_sm)\n",
        "print('Best score for GradientBoosting=',grid_cv_boost3.best_score_)\n",
        "grid_cv_boost3.best_estimator_"
      ]
    },
    {
      "cell_type": "code",
      "execution_count": null,
      "metadata": {
        "id": "roByjlpbDEoV"
      },
      "outputs": [],
      "source": [
        "y_pred_xgbgcv2 = grid_cv_boost3.best_estimator_.predict(x_train_sm)\n",
        "peformance = model_metrics(y_train_sm,y_pred_xgbgcv2,'GradientBoostClassifier with param2',peformance)\n",
        "performance"
      ]
    },
    {
      "cell_type": "code",
      "execution_count": null,
      "metadata": {
        "id": "l56d2KWtDmhp"
      },
      "outputs": [],
      "source": [
        "metrics_df = pd.DataFrame(performance)\n",
        "metrics_df"
      ]
    },
    {
      "cell_type": "code",
      "execution_count": null,
      "metadata": {
        "id": "ngSVch-EDGQI"
      },
      "outputs": [],
      "source": [
        "rf_final = pickle.load(open('pickle_file/RandomForest_classifier.pkl','rb'))"
      ]
    },
    {
      "cell_type": "code",
      "execution_count": null,
      "metadata": {
        "id": "Ioo91PCcHTlA"
      },
      "outputs": [],
      "source": [
        "# After doing multiple tuning we get the below model and will be used in the sentiment based analysis\n",
        "final_model = GradientBoostingClassifier(max_depth=10, min_samples_split=20, n_estimators=600)"
      ]
    },
    {
      "cell_type": "code",
      "execution_count": null,
      "metadata": {
        "id": "9RNQ7iHOD4Zg"
      },
      "outputs": [],
      "source": [
        "final_model.fit(x_train_sm,y_train_sm)"
      ]
    },
    {
      "cell_type": "code",
      "execution_count": null,
      "metadata": {
        "id": "ZHGkHFv0ESRD"
      },
      "outputs": [],
      "source": [
        "pickle.dump(final_model,open('pickle_file/final_model.pkl','wb'))"
      ]
    },
    {
      "cell_type": "code",
      "execution_count": null,
      "metadata": {
        "id": "Gnz9Rv-8G0Zm"
      },
      "outputs": [],
      "source": [
        "#Evaluatopn between lr , rf and boost \n",
        "test_performance=[]\n",
        "test_word_vect = count_vect.transform(x_test)\n",
        "test_tfidf_vect = tfidf_transformer.transform(test_word_vect)\n",
        "\n",
        "y_test_pred_lr = lr.predict(test_tfidf_vect)\n",
        "test_peformance = model_metrics(y_test,y_test_pred_lr,'Logistic Regression',test_performance)\n",
        "\n",
        "y_test_pred_xgbc = xgb_classifier.predict(test_tfidf_vect)\n",
        "test_peformance = model_metrics(y_test,y_test_pred_xgbc,'XGBoost Classifier',test_performance)\n",
        "\n",
        "y_test_pred_rf = rf_final.predict(test_tfidf_vect)\n",
        "test_peformance = model_metrics(y_test,y_test_pred_rf,'Tuned RandomForestClassifier',test_performance)\n",
        "\n",
        "y_test_pred_xgb = final_model.predict(test_tfidf_vect)\n",
        "test_peformance = model_metrics(y_test,y_test_pred_xgb,'Tuned GradientBoostClassifier',test_performance)\n",
        "\n",
        "test_metrics_df = pd.DataFrame(test_performance)\n",
        "test_metrics_df"
      ]
    },
    {
      "cell_type": "markdown",
      "metadata": {
        "id": "WoqnEkQPI9i2"
      },
      "source": [
        "### Evaluation with test data after comparing \n",
        "- Considering roc_auc_score ,performance. \n",
        "- Logistic Regression is having more score and have good accuracy "
      ]
    },
    {
      "cell_type": "code",
      "execution_count": null,
      "metadata": {
        "id": "QBDSTlWeI8v6"
      },
      "outputs": [],
      "source": [
        "pickle.dump(lr,open('pickle_file/model.pkl','wb'))"
      ]
    },
    {
      "cell_type": "markdown",
      "metadata": {
        "id": "qis9UlIlFO_F"
      },
      "source": [
        "# 5. Recommedation system\n",
        "- User and User recommedation system \n",
        "- Item and Item recommedation system "
      ]
    },
    {
      "cell_type": "markdown",
      "metadata": {
        "id": "RYweVbz3zX-o"
      },
      "source": [
        "## User and User recommedation \n"
      ]
    },
    {
      "cell_type": "code",
      "execution_count": null,
      "metadata": {
        "colab": {
          "base_uri": "https://localhost:8080/",
          "height": 190
        },
        "id": "fLfQArPYzLLr",
        "outputId": "0c583253-a86e-44f4-b559-13877101dea0"
      },
      "outputs": [],
      "source": [
        "df = pd.read_csv('sample30.csv')\n",
        "df.sample(5)"
      ]
    },
    {
      "cell_type": "code",
      "execution_count": null,
      "metadata": {
        "colab": {
          "base_uri": "https://localhost:8080/"
        },
        "id": "FBixN57OzLLr",
        "outputId": "3b1b2a40-55b5-4ae5-df34-be24f81253f7"
      },
      "outputs": [],
      "source": [
        "len(df['name'].unique())"
      ]
    },
    {
      "cell_type": "code",
      "execution_count": null,
      "metadata": {
        "colab": {
          "base_uri": "https://localhost:8080/"
        },
        "id": "z__3zlhDzLLr",
        "outputId": "eda91381-d92a-499b-9329-167a0c3f73fd"
      },
      "outputs": [],
      "source": [
        "from sklearn.model_selection import train_test_split\n",
        "train,test = train_test_split(df,train_size=0.70,random_state=45)\n",
        "print('train shape = ',train.shape)\n",
        "print('test shape = ',test.shape)"
      ]
    },
    {
      "cell_type": "code",
      "execution_count": null,
      "metadata": {
        "colab": {
          "base_uri": "https://localhost:8080/",
          "height": 745
        },
        "id": "RqaBNRgDzLLs",
        "outputId": "bcdf06bd-c72f-412c-a292-f2115170c971"
      },
      "outputs": [],
      "source": [
        "#using train dataset and create correlation matrix \n",
        "train_pivot = pd.pivot_table(index='reviews_username',\n",
        "                            columns='name',\n",
        "                            values='reviews_rating',data=train).fillna(1)\n",
        "train_pivot"
      ]
    },
    {
      "cell_type": "code",
      "execution_count": null,
      "metadata": {
        "id": "yY_ZssUEzLLs"
      },
      "outputs": [],
      "source": [
        "#Creating the train and test dataset for predicting and evaluating the correlation\n",
        "#fill 1 in place of Nan for prediction \n",
        "train_pivot1 = pd.pivot_table(index='reviews_username',\n",
        "                            columns='name',\n",
        "                            values='reviews_rating',data=train).fillna(1)"
      ]
    },
    {
      "cell_type": "code",
      "execution_count": null,
      "metadata": {
        "colab": {
          "base_uri": "https://localhost:8080/"
        },
        "id": "JATJPNluzLLs",
        "outputId": "679266ba-b3c7-4924-e54d-77fd562587c7"
      },
      "outputs": [],
      "source": [
        "train_pivot1.loc['piggyboy420']"
      ]
    },
    {
      "cell_type": "code",
      "execution_count": null,
      "metadata": {
        "id": "CRGgL-MMzLLs"
      },
      "outputs": [],
      "source": [
        "# here we are going use the adjusted cosine similarity \n",
        "import numpy as np\n",
        "\n",
        "def cosine_similarity(df):\n",
        "    # using the adjusted cosine similarity \n",
        "    mean_df = np.nanmean(df,axis=1)\n",
        "    substracted_df = (df.T - mean_df).T # Normalized dataset\n",
        "    # using the pairwise_distance for cosine similarity \n",
        "    user_correlation = 1- pairwise_distances (substracted_df.fillna(0),metric='cosine')\n",
        "    user_correlation[np.isnan(user_correlation)] = 0\n",
        "    return user_correlation,substracted_df\n",
        "    "
      ]
    },
    {
      "cell_type": "code",
      "execution_count": null,
      "metadata": {
        "colab": {
          "base_uri": "https://localhost:8080/"
        },
        "id": "hohOihBLzLLs",
        "outputId": "de2cd060-a40d-401c-b075-02c0cd0edd28"
      },
      "outputs": [],
      "source": [
        "user_corr_matrix,normalized_df = cosine_similarity(train_pivot1)\n",
        "user_corr_matrix"
      ]
    },
    {
      "cell_type": "code",
      "execution_count": null,
      "metadata": {
        "colab": {
          "base_uri": "https://localhost:8080/"
        },
        "id": "FIv0ASr7zLLs",
        "outputId": "a7b99cfa-5b2e-4b1c-9222-5f37f235c24b"
      },
      "outputs": [],
      "source": [
        "user_corr_matrix.shape"
      ]
    },
    {
      "cell_type": "code",
      "execution_count": null,
      "metadata": {
        "colab": {
          "base_uri": "https://localhost:8080/"
        },
        "id": "eL5_ky7kzLLt",
        "outputId": "c6455953-af81-4410-b8f3-0f02d92a8b45"
      },
      "outputs": [],
      "source": [
        "user_corr_matrix[user_corr_matrix < 0] = 0\n",
        "user_corr_matrix.shape"
      ]
    },
    {
      "cell_type": "code",
      "execution_count": null,
      "metadata": {
        "colab": {
          "base_uri": "https://localhost:8080/",
          "height": 527
        },
        "id": "FXRWk8QpzLLt",
        "outputId": "873f4290-1220-413e-d20d-13ebb52af276"
      },
      "outputs": [],
      "source": [
        "df[df['reviews_username'] == 'zzz1127']"
      ]
    },
    {
      "cell_type": "code",
      "execution_count": null,
      "metadata": {
        "colab": {
          "base_uri": "https://localhost:8080/"
        },
        "id": "OFO775uXzLLt",
        "outputId": "90a67a85-e523-44ce-af31-9dc95429893a"
      },
      "outputs": [],
      "source": [
        "user_pred_ratings = np.dot(user_corr_matrix,train_pivot1.fillna(0))\n",
        "user_pred_ratings"
      ]
    },
    {
      "cell_type": "code",
      "execution_count": null,
      "metadata": {
        "colab": {
          "base_uri": "https://localhost:8080/"
        },
        "id": "tSNWLbbgzLLt",
        "outputId": "1303faaa-be1a-47fd-d157-b3e41cd75be8"
      },
      "outputs": [],
      "source": [
        "user_pred_ratings.shape"
      ]
    },
    {
      "cell_type": "code",
      "execution_count": null,
      "metadata": {
        "colab": {
          "base_uri": "https://localhost:8080/",
          "height": 745
        },
        "id": "vbsDqYE4zLLt",
        "outputId": "113c7ee1-e504-4851-cfc1-189a8e5d4761"
      },
      "outputs": [],
      "source": [
        "user_final_rating = np.multiply(user_pred_ratings,train_pivot)\n",
        "user_final_rating"
      ]
    },
    {
      "cell_type": "code",
      "execution_count": null,
      "metadata": {
        "id": "ow-QxzO3zLLt"
      },
      "outputs": [],
      "source": [
        "# Creating a pickle file for user-user recommendation system\n",
        "import pickle \n",
        "pickle.dump(user_final_rating,open('pickle_file/user_final_rating.pkl','wb'))"
      ]
    },
    {
      "cell_type": "code",
      "execution_count": null,
      "metadata": {
        "colab": {
          "base_uri": "https://localhost:8080/"
        },
        "id": "ze2TMsAbzLLu",
        "outputId": "749c5bb6-6073-41ff-f7ef-43376b25e9a6"
      },
      "outputs": [],
      "source": [
        "d = user_final_rating\n",
        "d.loc['piggyboy420'].sort_values(ascending=False)[:20]"
      ]
    },
    {
      "cell_type": "markdown",
      "metadata": {
        "id": "LxBEFB9ozLLu"
      },
      "source": [
        "### Evaluation for user-user recommendation system"
      ]
    },
    {
      "cell_type": "code",
      "execution_count": null,
      "metadata": {
        "colab": {
          "base_uri": "https://localhost:8080/"
        },
        "id": "6Ep5nRlEzLLu",
        "outputId": "a352e151-352c-4c88-9902-ecff21170e8b"
      },
      "outputs": [],
      "source": [
        "## Evaluation\n",
        "common = test[test.reviews_username.isin(train.reviews_username)]\n",
        "common.shape"
      ]
    },
    {
      "cell_type": "code",
      "execution_count": null,
      "metadata": {
        "id": "0SdaUBYnzLLu"
      },
      "outputs": [],
      "source": [
        "corr_df = pd.DataFrame(user_corr_matrix)"
      ]
    },
    {
      "cell_type": "code",
      "execution_count": null,
      "metadata": {
        "colab": {
          "base_uri": "https://localhost:8080/",
          "height": 488
        },
        "id": "2h8-6TAwzLLu",
        "outputId": "d21df4b4-a3b2-4a55-e7f2-ddb7adf27dc2"
      },
      "outputs": [],
      "source": [
        "corr_df"
      ]
    },
    {
      "cell_type": "code",
      "execution_count": null,
      "metadata": {
        "colab": {
          "base_uri": "https://localhost:8080/",
          "height": 519
        },
        "id": "Oy15_a6MzLLu",
        "outputId": "264f6546-18a3-4679-dff5-15a5f84a102f"
      },
      "outputs": [],
      "source": [
        "corr_df['user_name'] = normalized_df.index\n",
        "corr_df.set_index('user_name',inplace=True)\n",
        "corr_df"
      ]
    },
    {
      "cell_type": "code",
      "execution_count": null,
      "metadata": {
        "id": "5JxX1jSHzLLu"
      },
      "outputs": [],
      "source": [
        "list_name = common.reviews_username.tolist()"
      ]
    },
    {
      "cell_type": "code",
      "execution_count": null,
      "metadata": {
        "colab": {
          "base_uri": "https://localhost:8080/"
        },
        "id": "wYpYA33CzLLv",
        "outputId": "8a2e6da4-f860-4457-b9a7-a99431c0a718"
      },
      "outputs": [],
      "source": [
        "corr_df.columns = normalized_df.index.tolist()\n",
        "corr_df.columns"
      ]
    },
    {
      "cell_type": "code",
      "execution_count": null,
      "metadata": {
        "colab": {
          "base_uri": "https://localhost:8080/"
        },
        "id": "mKvSaYGAzLLv",
        "outputId": "59b5f24e-ed3c-4af9-ad43-408f81721b60"
      },
      "outputs": [],
      "source": [
        "corr_df1 = corr_df[corr_df.index.isin(list_name)]\n",
        "corr_df1.shape"
      ]
    },
    {
      "cell_type": "code",
      "execution_count": null,
      "metadata": {
        "colab": {
          "base_uri": "https://localhost:8080/",
          "height": 331
        },
        "id": "qg6pV63SzLLv",
        "outputId": "ed005e6b-42df-42df-9815-2e573d9721d8"
      },
      "outputs": [],
      "source": [
        "corr_df2 = corr_df1.T[corr_df1.T.index.isin(list_name)]\n",
        "corr_df3 = corr_df2.T\n",
        "corr_df3.head()"
      ]
    },
    {
      "cell_type": "code",
      "execution_count": null,
      "metadata": {
        "id": "WN1NLC9IzLLv"
      },
      "outputs": [],
      "source": [
        "common_user_tb = pd.pivot_table(index='reviews_username',\n",
        "                            columns='name',\n",
        "                            values='reviews_rating',data=common)"
      ]
    },
    {
      "cell_type": "code",
      "execution_count": null,
      "metadata": {
        "colab": {
          "base_uri": "https://localhost:8080/",
          "height": 693
        },
        "id": "_jomjBh2zLLv",
        "outputId": "c334e449-df25-4e6a-dc6d-484ffc0ede83"
      },
      "outputs": [],
      "source": [
        "common_user_tb"
      ]
    },
    {
      "cell_type": "code",
      "execution_count": null,
      "metadata": {
        "colab": {
          "base_uri": "https://localhost:8080/"
        },
        "id": "uX50pmXmzLLv",
        "outputId": "17d7f1fc-1bd5-49fa-b863-770616ceb792"
      },
      "outputs": [],
      "source": [
        "corr_df3[corr_df3<0] = 0\n",
        "common_user_rating =  np.dot(corr_df3,common_user_tb.fillna(0))\n",
        "common_user_rating"
      ]
    },
    {
      "cell_type": "code",
      "execution_count": null,
      "metadata": {
        "id": "DFe7Svl1zLLw"
      },
      "outputs": [],
      "source": [
        "dummy_test = common.copy()\n",
        "dummy_test['reviews_rating'] =dummy_test['reviews_rating'].apply(lambda x: 1 if x>=1 else 0)\n",
        "dummy_test = pd.pivot_table(index='reviews_username',\n",
        "                            columns='name',\n",
        "                            values='reviews_rating',data=dummy_test).fillna(0)\n",
        "dummy_test"
      ]
    },
    {
      "cell_type": "code",
      "execution_count": null,
      "metadata": {
        "id": "N5UMLuZmzLLw"
      },
      "outputs": [],
      "source": [
        "common_user_pred_ratings =  np.multiply(common_user_rating,dummy_test)\n",
        "common_user_pred_ratings"
      ]
    },
    {
      "cell_type": "code",
      "execution_count": null,
      "metadata": {
        "id": "04JlaaowzLLw"
      },
      "outputs": [],
      "source": [
        "from sklearn.preprocessing import MinMaxScaler\n",
        "from numpy import *\n",
        "\n",
        "X  = common_user_pred_ratings.copy() \n",
        "X = X[X>0]\n",
        "\n",
        "scaler = MinMaxScaler(feature_range=(1, 5))\n",
        "print(scaler.fit(X))\n",
        "y = (scaler.transform(X))\n",
        "\n",
        "print(y)\n",
        "y.shape"
      ]
    },
    {
      "cell_type": "code",
      "execution_count": null,
      "metadata": {
        "id": "WZlAO7jHzLLw"
      },
      "outputs": [],
      "source": [
        "# Finding total non-NaN value\n",
        "total_non_nan = np.count_nonzero(~np.isnan(y))"
      ]
    },
    {
      "cell_type": "code",
      "execution_count": null,
      "metadata": {
        "id": "rYja90pRzLLw"
      },
      "outputs": [],
      "source": [
        "total_non_nan"
      ]
    },
    {
      "cell_type": "code",
      "execution_count": null,
      "metadata": {
        "id": "JcCX66UwzLLw"
      },
      "outputs": [],
      "source": [
        "common_pivot = pd.pivot_table(index='reviews_username',\n",
        "                            columns='name',\n",
        "                            values='reviews_rating',data=common)\n",
        "common_pivot"
      ]
    },
    {
      "cell_type": "code",
      "execution_count": null,
      "metadata": {
        "id": "yBRKSyRizLLx"
      },
      "outputs": [],
      "source": [
        "rmse = (sum(sum((common_pivot -  y )**2))/total_non_nan)**0.5\n",
        "print(rmse)"
      ]
    },
    {
      "cell_type": "markdown",
      "metadata": {
        "id": "ym4IEkm1zLLx"
      },
      "source": [
        "## Item and Item recommendation system"
      ]
    },
    {
      "cell_type": "code",
      "execution_count": null,
      "metadata": {
        "colab": {
          "base_uri": "https://localhost:8080/",
          "height": 884
        },
        "id": "IoDSJsWozLLx",
        "outputId": "6c396646-3179-4af0-c3f2-f3788c896446"
      },
      "outputs": [],
      "source": [
        "train_pivot_ii = train_pivot1.T\n",
        "train_pivot_ii"
      ]
    },
    {
      "cell_type": "code",
      "execution_count": null,
      "metadata": {
        "colab": {
          "base_uri": "https://localhost:8080/"
        },
        "id": "1OQFyA9XzLLx",
        "outputId": "75aef29d-789e-4ea3-afa8-fc83443de5e2"
      },
      "outputs": [],
      "source": [
        "item_corr_matrix, normalized_item_df = cosine_similarity(train_pivot_ii)\n",
        "item_corr_matrix.shape"
      ]
    },
    {
      "cell_type": "code",
      "execution_count": null,
      "metadata": {
        "colab": {
          "base_uri": "https://localhost:8080/"
        },
        "id": "gdgSp0jXzLLx",
        "outputId": "665ab032-64ec-4b93-ae71-c14697126864"
      },
      "outputs": [],
      "source": [
        "item_pred_rating = np.dot((train_pivot_ii.fillna(0)).T,item_corr_matrix)\n",
        "item_pred_rating[item_pred_rating<0] = 0\n",
        "item_pred_rating"
      ]
    },
    {
      "cell_type": "code",
      "execution_count": null,
      "metadata": {
        "colab": {
          "base_uri": "https://localhost:8080/",
          "height": 745
        },
        "id": "A0li15FKzLLx",
        "outputId": "bae0ae20-10fe-4b67-9dc0-ccf2e0b9ed81"
      },
      "outputs": [],
      "source": [
        "#final rating for items\n",
        "item_final_rating = np.multiply(item_pred_rating,train_pivot)\n",
        "item_final_rating"
      ]
    },
    {
      "cell_type": "code",
      "execution_count": null,
      "metadata": {
        "colab": {
          "base_uri": "https://localhost:8080/"
        },
        "id": "Kl1k68xBzLLy",
        "outputId": "b4723705-f4f3-486e-f46f-97a68ce646ed"
      },
      "outputs": [],
      "source": [
        "d_item = item_final_rating\n",
        "d_item.loc['piggyboy420'].sort_values(ascending=False)[:20]"
      ]
    },
    {
      "cell_type": "markdown",
      "metadata": {
        "id": "q2x5g_gCzLLy"
      },
      "source": [
        "### Evaluation for item and item"
      ]
    },
    {
      "cell_type": "code",
      "execution_count": null,
      "metadata": {
        "colab": {
          "base_uri": "https://localhost:8080/",
          "height": 1000
        },
        "id": "ew17D0NwzLLy",
        "outputId": "c606c0fc-6a20-42ea-81b2-f27a1346155d"
      },
      "outputs": [],
      "source": [
        "common_item = test[test.name.isin(train.name)]\n",
        "common_item"
      ]
    },
    {
      "cell_type": "code",
      "execution_count": null,
      "metadata": {
        "colab": {
          "base_uri": "https://localhost:8080/"
        },
        "id": "_H4a-omAzLLy",
        "outputId": "c4bf2dcb-1b6f-479a-a879-882872eec2af"
      },
      "outputs": [],
      "source": [
        "common_item_pivot = common_item.pivot_table(index='reviews_username',\n",
        "                            columns='name',\n",
        "                            values='reviews_rating').T\n",
        "\n",
        "common_item_pivot.shape"
      ]
    },
    {
      "cell_type": "code",
      "execution_count": null,
      "metadata": {
        "colab": {
          "base_uri": "https://localhost:8080/",
          "height": 488
        },
        "id": "qQV5eh4-zLLy",
        "outputId": "5aa9fd39-1637-4123-debf-5b73811ec7cd"
      },
      "outputs": [],
      "source": [
        "item_corr_df = pd.DataFrame(item_corr_matrix)\n",
        "item_corr_df"
      ]
    },
    {
      "cell_type": "code",
      "execution_count": null,
      "metadata": {
        "colab": {
          "base_uri": "https://localhost:8080/",
          "height": 1000
        },
        "id": "-f0WJAcUzLLy",
        "outputId": "ae45a894-aa52-4d2d-f29b-d623185be13f"
      },
      "outputs": [],
      "source": [
        "item_corr_df['name'] = normalized_item_df.index\n",
        "item_corr_df.set_index('name',inplace=True)\n",
        "item_corr_df"
      ]
    },
    {
      "cell_type": "code",
      "execution_count": null,
      "metadata": {
        "colab": {
          "base_uri": "https://localhost:8080/",
          "height": 1000
        },
        "id": "yKeeyy0RzLLz",
        "outputId": "0238b3cd-73a6-4b0e-b55a-b28766fb8a76"
      },
      "outputs": [],
      "source": [
        "list_items = common_item.name.tolist()\n",
        "item_corr_df.columns = normalized_item_df.index.tolist()\n",
        "item_corr_df"
      ]
    },
    {
      "cell_type": "code",
      "execution_count": null,
      "metadata": {
        "colab": {
          "base_uri": "https://localhost:8080/"
        },
        "id": "VHtl8MqZzLLz",
        "outputId": "f8ad24b9-a36c-46e8-8ac1-054c527cab4f"
      },
      "outputs": [],
      "source": [
        "list_items"
      ]
    },
    {
      "cell_type": "code",
      "execution_count": null,
      "metadata": {
        "colab": {
          "base_uri": "https://localhost:8080/",
          "height": 1000
        },
        "id": "YGmBlYpEzLLz",
        "outputId": "3e80b876-b2ab-4156-8cce-2dfc46fbce95"
      },
      "outputs": [],
      "source": [
        "item_corr_df1 = item_corr_df[item_corr_df.index.isin(list_items)]\n",
        "item_corr_df1"
      ]
    },
    {
      "cell_type": "code",
      "execution_count": null,
      "metadata": {
        "colab": {
          "base_uri": "https://localhost:8080/",
          "height": 1000
        },
        "id": "5AtlOt7wzLLz",
        "outputId": "eecfa888-bdb2-46d7-cca8-ebd090976e67"
      },
      "outputs": [],
      "source": [
        "item_corr_df2 = item_corr_df1.T[item_corr_df1.T.index.isin(list_items)]\n",
        "item_corr_df3 = item_corr_df2.T\n",
        "item_corr_df3"
      ]
    },
    {
      "cell_type": "markdown",
      "metadata": {},
      "source": []
    },
    {
      "cell_type": "code",
      "execution_count": null,
      "metadata": {
        "colab": {
          "base_uri": "https://localhost:8080/"
        },
        "id": "vXFKWnf5zLLz",
        "outputId": "5a3c90bb-43ad-46e6-b9ea-e60f5afde608"
      },
      "outputs": [],
      "source": [
        "item_corr_df3[item_corr_df3<0] = 0\n",
        "common_item_pred_ratings = np.dot(item_corr_df3,common_item_pivot.fillna(0))\n",
        "common_item_pred_ratings.shape"
      ]
    },
    {
      "cell_type": "code",
      "execution_count": null,
      "metadata": {
        "id": "ltPbbCVRzLL0"
      },
      "outputs": [],
      "source": [
        "test_items = common_item.copy()\n"
      ]
    },
    {
      "cell_type": "code",
      "execution_count": null,
      "metadata": {
        "colab": {
          "base_uri": "https://localhost:8080/",
          "height": 901
        },
        "id": "G9s9BWhDzLL0",
        "outputId": "75f1952b-8f62-4ed8-a09f-b94c186bf65c"
      },
      "outputs": [],
      "source": [
        "test_item_tb = test_items.pivot_table(index='reviews_username',\n",
        "                            columns='name',\n",
        "                            values='reviews_rating').T.fillna(0)\n",
        "final_item_ratings = np.multiply(common_item_pred_ratings,test_item_tb)\n",
        "final_item_ratings"
      ]
    },
    {
      "cell_type": "code",
      "execution_count": null,
      "metadata": {
        "colab": {
          "base_uri": "https://localhost:8080/",
          "height": 245
        },
        "id": "ljcL4r0dzLL0",
        "outputId": "7f88cb4b-74bf-4889-8503-9d8a3186b4a5"
      },
      "outputs": [],
      "source": [
        "X  = final_item_ratings.copy() \n",
        "X = X[X>0]\n",
        "\n",
        "scaler = MinMaxScaler(feature_range=(1, 5))\n",
        "print(scaler.fit(X))\n",
        "y = (scaler.transform(X))\n",
        "\n",
        "print(y)\n",
        "y.shape"
      ]
    },
    {
      "cell_type": "code",
      "execution_count": null,
      "metadata": {
        "id": "Q2UtRolIzLL0"
      },
      "outputs": [],
      "source": [
        "# Finding total non-NaN value\n",
        "total_non_nan = np.count_nonzero(~np.isnan(y))"
      ]
    },
    {
      "cell_type": "code",
      "execution_count": null,
      "metadata": {
        "colab": {
          "base_uri": "https://localhost:8080/",
          "height": 342
        },
        "id": "_tAlCS4dzLL0",
        "outputId": "26537f93-c465-45d8-ccac-abeddf5ef49c"
      },
      "outputs": [],
      "source": [
        "rmse = (sum(sum((common_item_pivot -  y )**2))/total_non_nan)**0.5\n",
        "print(rmse)"
      ]
    },
    {
      "cell_type": "markdown",
      "metadata": {
        "id": "7aVfcF4EzLL0"
      },
      "source": [
        "## Best suited recommendation system \n",
        "- By checking the root mean squared error for user-user and item-item recommendation systems . \n",
        "\n",
        "\n",
        "```\n",
        "User-User recommendation\n",
        "```\n",
        "\n",
        " will be used as it is having less RMSE"
      ]
    },
    {
      "cell_type": "markdown",
      "metadata": {},
      "source": [
        "##### Final ```model.py``` attached which will recommend the top 20 products and then top 5 products based on sentiment \n",
        "##### pickle files are available in ```pickle_file``` folder\n",
        "##### ```app.py``` contains the flask deployment \n",
        "##### Heroku URL : ```https://productrecommendationsystem-d7810d73f036.herokuapp.com/```"
      ]
    },
    {
      "cell_type": "markdown",
      "metadata": {},
      "source": []
    }
  ],
  "metadata": {
    "colab": {
      "collapsed_sections": [],
      "name": "SBPRS_Capstone_Jyothish.ipynb",
      "provenance": [],
      "toc_visible": true
    },
    "kernelspec": {
      "display_name": "Python 3",
      "name": "python3"
    },
    "language_info": {
      "codemirror_mode": {
        "name": "ipython",
        "version": 3
      },
      "file_extension": ".py",
      "mimetype": "text/x-python",
      "name": "python",
      "nbconvert_exporter": "python",
      "pygments_lexer": "ipython3",
      "version": "3.10.10"
    }
  },
  "nbformat": 4,
  "nbformat_minor": 0
}
